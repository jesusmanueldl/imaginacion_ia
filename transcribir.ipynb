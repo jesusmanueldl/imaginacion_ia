{
 "cells": [
  {
   "cell_type": "markdown",
   "metadata": {
    "id": "0--fn7AdAFpm"
   },
   "source": [
    "**Librerias** requisitos para ejecutarlo offline, debes tener una GPU"
   ]
  },
  {
   "cell_type": "code",
   "execution_count": null,
   "metadata": {
    "colab": {
     "base_uri": "https://localhost:8080/"
    },
    "id": "_M2zXiqwADIk",
    "outputId": "bfc4f456-5813-42ca-baa0-c52d95d83fb2"
   },
   "outputs": [],
   "source": [
    "#=== INFO ===\n",
    "# Si no cuentas con una GPU utilizar Google colab\n",
    "# Si cuentas con GPU NVIDIA instalar los driver CUDA y los CUDA Deep Neural Network (cuDNN)\n",
    "\n",
    "'''\n",
    "#INSTALACIÓN PREVIA\n",
    "\n",
    "!pip install whisper\n",
    "!pip install openai-whisper\n",
    "!pip install --upgrade --no-deps --force-reinstall git+https://github.com/openai/whisper.git\n",
    "!pip install pytube\n",
    "\n",
    "'''\n"
   ]
  },
  {
   "cell_type": "code",
   "execution_count": null,
   "metadata": {
    "editable": true,
    "id": "Tq6lKcu83-T7",
    "slideshow": {
     "slide_type": ""
    },
    "tags": []
   },
   "outputs": [],
   "source": [
    "import whisper\n",
    "import torch\n",
    "from pytube import YouTube\n",
    "from pytube.cli import on_progress\n",
    "import datetime"
   ]
  },
  {
   "cell_type": "code",
   "execution_count": null,
   "metadata": {
    "colab": {
     "base_uri": "https://localhost:8080/",
     "height": 36
    },
    "id": "Hm3exMkp4Ut9",
    "outputId": "ff77b628-71e3-4f8f-e5ca-935c2334cb0d"
   },
   "outputs": [],
   "source": [
    "url = 'https://www.youtube.com/watch?v=F7sWdmyypys'\n",
    "\n",
    "yt = YouTube(url, on_progress_callback=on_progress)\n",
    "stream = yt.streams.filter(only_audio=True).first()\n",
    "stream.download(output_path='.', filename='audio.mp3')"
   ]
  },
  {
   "cell_type": "code",
   "execution_count": null,
   "metadata": {
    "colab": {
     "base_uri": "https://localhost:8080/"
    },
    "id": "beJ8zt6x5qzX",
    "outputId": "967de9a8-9de4-4df1-bfcd-ef2a2a98b8bf"
   },
   "outputs": [],
   "source": [
    "model = whisper.load_model(\"base\", device=\"cuda\")\n",
    "result = model.transcribe('extraido.mp3', language=\"Spanish\")\n",
    "#result = model.transcribe('audio.mp3', language=\"Spanish\", task=\"translate\") #Traducir a inglés\n",
    "print(result['text'])"
   ]
  },
  {
   "cell_type": "code",
   "execution_count": null,
   "metadata": {
    "id": "RxfDiPou58Yp"
   },
   "outputs": [],
   "source": [
    "# Función para convertir segundos a formato de tiempo de subtítulos\n",
    "def seconds_to_srt_time_format(seconds):\n",
    "    return str(datetime.timedelta(seconds=seconds)).replace('.', ',')\n",
    "\n",
    "# Crear y escribir en el archivo .srt\n",
    "with open(\"subtitulos.srt\", \"w\", encoding='utf-8') as file:\n",
    "    for i, segment in enumerate(result[\"segments\"], start=1):\n",
    "        start_time = int(segment[\"start\"]) #seconds_to_srt_time_format(segment[\"start\"]) #int(segment[\"start\"])\n",
    "        end_time = int(segment[\"end\"]) #seconds_to_srt_time_format(segment[\"end\"]) #int(segment[\"end\"])\n",
    "        text = segment[\"text\"]\n",
    "        file.write(f\"{i}:{start_time}:{end_time}\\n{text}\\n\\n\")\n",
    "        #file.write(f\"{i}\\n{start_time} --> {end_time}\\n{text}\\n\\n\")"
   ]
  },
  {
   "cell_type": "code",
   "execution_count": null,
   "metadata": {},
   "outputs": [],
   "source": [
    "fichero = open(\"datos_guardados.txt\", 'w', encoding='utf-8')\n",
    "fichero.write(result['text'])\n",
    "fichero.close()"
   ]
  }
 ],
 "metadata": {
  "accelerator": "GPU",
  "colab": {
   "gpuType": "T4",
   "provenance": []
  },
  "kernelspec": {
   "display_name": "Python 3 (ipykernel)",
   "language": "python",
   "name": "python3"
  },
  "language_info": {
   "codemirror_mode": {
    "name": "ipython",
    "version": 3
   },
   "file_extension": ".py",
   "mimetype": "text/x-python",
   "name": "python",
   "nbconvert_exporter": "python",
   "pygments_lexer": "ipython3",
   "version": "3.11.8"
  }
 },
 "nbformat": 4,
 "nbformat_minor": 4
}
